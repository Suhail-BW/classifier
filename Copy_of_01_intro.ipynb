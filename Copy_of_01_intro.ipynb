{
  "cells": [
    {
      "cell_type": "markdown",
      "metadata": {
        "id": "view-in-github",
        "colab_type": "text"
      },
      "source": [
        "<a href=\"https://colab.research.google.com/github/Suhail-BW/classifier/blob/main/Copy_of_01_intro.ipynb\" target=\"_parent\"><img src=\"https://colab.research.google.com/assets/colab-badge.svg\" alt=\"Open In Colab\"/></a>"
      ]
    },
    {
      "cell_type": "code",
      "source": [
        "!pip install fastai==2.0\n",
        "!pip install -Uqq fastbook\n",
        "import fastbook\n",
        "fastbook.setup_book()"
      ],
      "metadata": {
        "colab": {
          "base_uri": "https://localhost:8080/"
        },
        "id": "O1aeAIy7ljC3",
        "outputId": "2e422751-309c-416d-d343-390f290b07a6"
      },
      "execution_count": 1,
      "outputs": [
        {
          "output_type": "stream",
          "name": "stdout",
          "text": [
            "Collecting fastai==2.0\n",
            "  Using cached fastai-2.0.0-py3-none-any.whl (350 kB)\n",
            "Requirement already satisfied: torchvision>=0.7 in /usr/local/lib/python3.7/dist-packages (from fastai==2.0) (0.11.1+cu111)\n",
            "Requirement already satisfied: matplotlib in /usr/local/lib/python3.7/dist-packages (from fastai==2.0) (3.2.2)\n",
            "Requirement already satisfied: pyyaml in /usr/local/lib/python3.7/dist-packages (from fastai==2.0) (3.13)\n",
            "Requirement already satisfied: torch>=1.6.0 in /usr/local/lib/python3.7/dist-packages (from fastai==2.0) (1.10.0+cu111)\n",
            "Requirement already satisfied: scikit-learn in /usr/local/lib/python3.7/dist-packages (from fastai==2.0) (1.0.2)\n",
            "Requirement already satisfied: pip in /usr/local/lib/python3.7/dist-packages (from fastai==2.0) (21.1.3)\n",
            "Requirement already satisfied: pillow in /usr/local/lib/python3.7/dist-packages (from fastai==2.0) (7.1.2)\n",
            "Requirement already satisfied: fastprogress>=0.2.4 in /usr/local/lib/python3.7/dist-packages (from fastai==2.0) (1.0.0)\n",
            "Requirement already satisfied: scipy in /usr/local/lib/python3.7/dist-packages (from fastai==2.0) (1.4.1)\n",
            "Requirement already satisfied: requests in /usr/local/lib/python3.7/dist-packages (from fastai==2.0) (2.23.0)\n",
            "Requirement already satisfied: fastcore>=1.0.0 in /usr/local/lib/python3.7/dist-packages (from fastai==2.0) (1.3.27)\n",
            "Requirement already satisfied: spacy in /usr/local/lib/python3.7/dist-packages (from fastai==2.0) (2.2.4)\n",
            "Requirement already satisfied: pandas in /usr/local/lib/python3.7/dist-packages (from fastai==2.0) (1.3.5)\n",
            "Requirement already satisfied: packaging in /usr/local/lib/python3.7/dist-packages (from fastai==2.0) (21.3)\n",
            "Requirement already satisfied: numpy in /usr/local/lib/python3.7/dist-packages (from fastprogress>=0.2.4->fastai==2.0) (1.21.5)\n",
            "Requirement already satisfied: typing-extensions in /usr/local/lib/python3.7/dist-packages (from torch>=1.6.0->fastai==2.0) (3.10.0.2)\n",
            "Requirement already satisfied: pyparsing!=2.0.4,!=2.1.2,!=2.1.6,>=2.0.1 in /usr/local/lib/python3.7/dist-packages (from matplotlib->fastai==2.0) (3.0.7)\n",
            "Requirement already satisfied: kiwisolver>=1.0.1 in /usr/local/lib/python3.7/dist-packages (from matplotlib->fastai==2.0) (1.3.2)\n",
            "Requirement already satisfied: python-dateutil>=2.1 in /usr/local/lib/python3.7/dist-packages (from matplotlib->fastai==2.0) (2.8.2)\n",
            "Requirement already satisfied: cycler>=0.10 in /usr/local/lib/python3.7/dist-packages (from matplotlib->fastai==2.0) (0.11.0)\n",
            "Requirement already satisfied: six>=1.5 in /usr/local/lib/python3.7/dist-packages (from python-dateutil>=2.1->matplotlib->fastai==2.0) (1.15.0)\n",
            "Requirement already satisfied: pytz>=2017.3 in /usr/local/lib/python3.7/dist-packages (from pandas->fastai==2.0) (2018.9)\n",
            "Requirement already satisfied: idna<3,>=2.5 in /usr/local/lib/python3.7/dist-packages (from requests->fastai==2.0) (2.10)\n",
            "Requirement already satisfied: chardet<4,>=3.0.2 in /usr/local/lib/python3.7/dist-packages (from requests->fastai==2.0) (3.0.4)\n",
            "Requirement already satisfied: urllib3!=1.25.0,!=1.25.1,<1.26,>=1.21.1 in /usr/local/lib/python3.7/dist-packages (from requests->fastai==2.0) (1.24.3)\n",
            "Requirement already satisfied: certifi>=2017.4.17 in /usr/local/lib/python3.7/dist-packages (from requests->fastai==2.0) (2021.10.8)\n",
            "Requirement already satisfied: threadpoolctl>=2.0.0 in /usr/local/lib/python3.7/dist-packages (from scikit-learn->fastai==2.0) (3.1.0)\n",
            "Requirement already satisfied: joblib>=0.11 in /usr/local/lib/python3.7/dist-packages (from scikit-learn->fastai==2.0) (1.1.0)\n",
            "Requirement already satisfied: wasabi<1.1.0,>=0.4.0 in /usr/local/lib/python3.7/dist-packages (from spacy->fastai==2.0) (0.9.0)\n",
            "Requirement already satisfied: tqdm<5.0.0,>=4.38.0 in /usr/local/lib/python3.7/dist-packages (from spacy->fastai==2.0) (4.62.3)\n",
            "Requirement already satisfied: murmurhash<1.1.0,>=0.28.0 in /usr/local/lib/python3.7/dist-packages (from spacy->fastai==2.0) (1.0.6)\n",
            "Requirement already satisfied: catalogue<1.1.0,>=0.0.7 in /usr/local/lib/python3.7/dist-packages (from spacy->fastai==2.0) (1.0.0)\n",
            "Requirement already satisfied: plac<1.2.0,>=0.9.6 in /usr/local/lib/python3.7/dist-packages (from spacy->fastai==2.0) (1.1.3)\n",
            "Requirement already satisfied: preshed<3.1.0,>=3.0.2 in /usr/local/lib/python3.7/dist-packages (from spacy->fastai==2.0) (3.0.6)\n",
            "Requirement already satisfied: srsly<1.1.0,>=1.0.2 in /usr/local/lib/python3.7/dist-packages (from spacy->fastai==2.0) (1.0.5)\n",
            "Requirement already satisfied: setuptools in /usr/local/lib/python3.7/dist-packages (from spacy->fastai==2.0) (57.4.0)\n",
            "Requirement already satisfied: blis<0.5.0,>=0.4.0 in /usr/local/lib/python3.7/dist-packages (from spacy->fastai==2.0) (0.4.1)\n",
            "Requirement already satisfied: cymem<2.1.0,>=2.0.2 in /usr/local/lib/python3.7/dist-packages (from spacy->fastai==2.0) (2.0.6)\n",
            "Requirement already satisfied: thinc==7.4.0 in /usr/local/lib/python3.7/dist-packages (from spacy->fastai==2.0) (7.4.0)\n",
            "Requirement already satisfied: importlib-metadata>=0.20 in /usr/local/lib/python3.7/dist-packages (from catalogue<1.1.0,>=0.0.7->spacy->fastai==2.0) (4.11.0)\n",
            "Requirement already satisfied: zipp>=0.5 in /usr/local/lib/python3.7/dist-packages (from importlib-metadata>=0.20->catalogue<1.1.0,>=0.0.7->spacy->fastai==2.0) (3.7.0)\n",
            "Installing collected packages: fastai\n",
            "  Attempting uninstall: fastai\n",
            "    Found existing installation: fastai 2.5.3\n",
            "    Uninstalling fastai-2.5.3:\n",
            "      Successfully uninstalled fastai-2.5.3\n",
            "\u001b[31mERROR: pip's dependency resolver does not currently take into account all the packages that are installed. This behaviour is the source of the following dependency conflicts.\n",
            "fastbook 0.0.18 requires fastai>=2.5, but you have fastai 2.0.0 which is incompatible.\u001b[0m\n",
            "Successfully installed fastai-2.0.0\n"
          ]
        }
      ]
    },
    {
      "cell_type": "code",
      "source": [
        "from fastbook import *\n",
        "from fastai.vision.widgets import *\n",
        "!pip install voila\n",
        "!jupyter serverextension enable voila --sys-prefix"
      ],
      "metadata": {
        "colab": {
          "base_uri": "https://localhost:8080/"
        },
        "id": "ASEFXOWUlrzx",
        "outputId": "36d7a6a2-7a88-43f7-f236-d289c1eeb41d"
      },
      "execution_count": 2,
      "outputs": [
        {
          "output_type": "stream",
          "name": "stdout",
          "text": [
            "Requirement already satisfied: voila in /usr/local/lib/python3.7/dist-packages (0.3.1)\n",
            "Requirement already satisfied: websockets>=9.0 in /usr/local/lib/python3.7/dist-packages (from voila) (10.1)\n",
            "Requirement already satisfied: nbconvert<7,>=6.0.0 in /usr/local/lib/python3.7/dist-packages (from voila) (6.4.2)\n",
            "Requirement already satisfied: traitlets<6,>=5.0.3 in /usr/local/lib/python3.7/dist-packages (from voila) (5.1.1)\n",
            "Requirement already satisfied: nbclient<0.6,>=0.4.0 in /usr/local/lib/python3.7/dist-packages (from voila) (0.5.10)\n",
            "Requirement already satisfied: jupyter-client<8,>=6.1.3 in /usr/local/lib/python3.7/dist-packages (from voila) (7.1.2)\n",
            "Requirement already satisfied: jupyter-server<2.0.0,>=0.3.0 in /usr/local/lib/python3.7/dist-packages (from voila) (1.13.5)\n",
            "Requirement already satisfied: pyzmq>=13 in /usr/local/lib/python3.7/dist-packages (from jupyter-client<8,>=6.1.3->voila) (22.3.0)\n",
            "Requirement already satisfied: nest-asyncio>=1.5 in /usr/local/lib/python3.7/dist-packages (from jupyter-client<8,>=6.1.3->voila) (1.5.4)\n",
            "Requirement already satisfied: entrypoints in /usr/local/lib/python3.7/dist-packages (from jupyter-client<8,>=6.1.3->voila) (0.4)\n",
            "Requirement already satisfied: python-dateutil>=2.1 in /usr/local/lib/python3.7/dist-packages (from jupyter-client<8,>=6.1.3->voila) (2.8.2)\n",
            "Requirement already satisfied: jupyter-core>=4.6.0 in /usr/local/lib/python3.7/dist-packages (from jupyter-client<8,>=6.1.3->voila) (4.9.1)\n",
            "Requirement already satisfied: tornado>=4.1 in /usr/local/lib/python3.7/dist-packages (from jupyter-client<8,>=6.1.3->voila) (6.1)\n",
            "Requirement already satisfied: argon2-cffi in /usr/local/lib/python3.7/dist-packages (from jupyter-server<2.0.0,>=0.3.0->voila) (21.3.0)\n",
            "Requirement already satisfied: anyio<4,>=3.1.0 in /usr/local/lib/python3.7/dist-packages (from jupyter-server<2.0.0,>=0.3.0->voila) (3.5.0)\n",
            "Requirement already satisfied: ipython-genutils in /usr/local/lib/python3.7/dist-packages (from jupyter-server<2.0.0,>=0.3.0->voila) (0.2.0)\n",
            "Requirement already satisfied: nbformat in /usr/local/lib/python3.7/dist-packages (from jupyter-server<2.0.0,>=0.3.0->voila) (5.1.3)\n",
            "Requirement already satisfied: Send2Trash in /usr/local/lib/python3.7/dist-packages (from jupyter-server<2.0.0,>=0.3.0->voila) (1.8.0)\n",
            "Requirement already satisfied: jinja2 in /usr/local/lib/python3.7/dist-packages (from jupyter-server<2.0.0,>=0.3.0->voila) (2.11.3)\n",
            "Requirement already satisfied: prometheus-client in /usr/local/lib/python3.7/dist-packages (from jupyter-server<2.0.0,>=0.3.0->voila) (0.13.1)\n",
            "Requirement already satisfied: terminado>=0.8.3 in /usr/local/lib/python3.7/dist-packages (from jupyter-server<2.0.0,>=0.3.0->voila) (0.13.1)\n",
            "Requirement already satisfied: websocket-client in /usr/local/lib/python3.7/dist-packages (from jupyter-server<2.0.0,>=0.3.0->voila) (1.2.3)\n",
            "Requirement already satisfied: packaging in /usr/local/lib/python3.7/dist-packages (from jupyter-server<2.0.0,>=0.3.0->voila) (21.3)\n",
            "Requirement already satisfied: sniffio>=1.1 in /usr/local/lib/python3.7/dist-packages (from anyio<4,>=3.1.0->jupyter-server<2.0.0,>=0.3.0->voila) (1.2.0)\n",
            "Requirement already satisfied: idna>=2.8 in /usr/local/lib/python3.7/dist-packages (from anyio<4,>=3.1.0->jupyter-server<2.0.0,>=0.3.0->voila) (2.10)\n",
            "Requirement already satisfied: typing-extensions in /usr/local/lib/python3.7/dist-packages (from anyio<4,>=3.1.0->jupyter-server<2.0.0,>=0.3.0->voila) (3.10.0.2)\n",
            "Requirement already satisfied: pygments>=2.4.1 in /usr/local/lib/python3.7/dist-packages (from nbconvert<7,>=6.0.0->voila) (2.6.1)\n",
            "Requirement already satisfied: jupyterlab-pygments in /usr/local/lib/python3.7/dist-packages (from nbconvert<7,>=6.0.0->voila) (0.1.2)\n",
            "Requirement already satisfied: defusedxml in /usr/local/lib/python3.7/dist-packages (from nbconvert<7,>=6.0.0->voila) (0.7.1)\n",
            "Requirement already satisfied: pandocfilters>=1.4.1 in /usr/local/lib/python3.7/dist-packages (from nbconvert<7,>=6.0.0->voila) (1.5.0)\n",
            "Requirement already satisfied: testpath in /usr/local/lib/python3.7/dist-packages (from nbconvert<7,>=6.0.0->voila) (0.5.0)\n",
            "Requirement already satisfied: mistune<2,>=0.8.1 in /usr/local/lib/python3.7/dist-packages (from nbconvert<7,>=6.0.0->voila) (0.8.4)\n",
            "Requirement already satisfied: bleach in /usr/local/lib/python3.7/dist-packages (from nbconvert<7,>=6.0.0->voila) (4.1.0)\n",
            "Requirement already satisfied: MarkupSafe>=0.23 in /usr/local/lib/python3.7/dist-packages (from jinja2->jupyter-server<2.0.0,>=0.3.0->voila) (2.0.1)\n",
            "Requirement already satisfied: jsonschema!=2.5.0,>=2.4 in /usr/local/lib/python3.7/dist-packages (from nbformat->jupyter-server<2.0.0,>=0.3.0->voila) (4.3.3)\n",
            "Requirement already satisfied: attrs>=17.4.0 in /usr/local/lib/python3.7/dist-packages (from jsonschema!=2.5.0,>=2.4->nbformat->jupyter-server<2.0.0,>=0.3.0->voila) (21.4.0)\n",
            "Requirement already satisfied: importlib-metadata in /usr/local/lib/python3.7/dist-packages (from jsonschema!=2.5.0,>=2.4->nbformat->jupyter-server<2.0.0,>=0.3.0->voila) (4.11.0)\n",
            "Requirement already satisfied: importlib-resources>=1.4.0 in /usr/local/lib/python3.7/dist-packages (from jsonschema!=2.5.0,>=2.4->nbformat->jupyter-server<2.0.0,>=0.3.0->voila) (5.4.0)\n",
            "Requirement already satisfied: pyrsistent!=0.17.0,!=0.17.1,!=0.17.2,>=0.14.0 in /usr/local/lib/python3.7/dist-packages (from jsonschema!=2.5.0,>=2.4->nbformat->jupyter-server<2.0.0,>=0.3.0->voila) (0.18.1)\n",
            "Requirement already satisfied: zipp>=3.1.0 in /usr/local/lib/python3.7/dist-packages (from importlib-resources>=1.4.0->jsonschema!=2.5.0,>=2.4->nbformat->jupyter-server<2.0.0,>=0.3.0->voila) (3.7.0)\n",
            "Requirement already satisfied: six>=1.5 in /usr/local/lib/python3.7/dist-packages (from python-dateutil>=2.1->jupyter-client<8,>=6.1.3->voila) (1.15.0)\n",
            "Requirement already satisfied: ptyprocess in /usr/local/lib/python3.7/dist-packages (from terminado>=0.8.3->jupyter-server<2.0.0,>=0.3.0->voila) (0.7.0)\n",
            "Requirement already satisfied: argon2-cffi-bindings in /usr/local/lib/python3.7/dist-packages (from argon2-cffi->jupyter-server<2.0.0,>=0.3.0->voila) (21.2.0)\n",
            "Requirement already satisfied: cffi>=1.0.1 in /usr/local/lib/python3.7/dist-packages (from argon2-cffi-bindings->argon2-cffi->jupyter-server<2.0.0,>=0.3.0->voila) (1.15.0)\n",
            "Requirement already satisfied: pycparser in /usr/local/lib/python3.7/dist-packages (from cffi>=1.0.1->argon2-cffi-bindings->argon2-cffi->jupyter-server<2.0.0,>=0.3.0->voila) (2.21)\n",
            "Requirement already satisfied: webencodings in /usr/local/lib/python3.7/dist-packages (from bleach->nbconvert<7,>=6.0.0->voila) (0.5.1)\n",
            "Requirement already satisfied: pyparsing!=3.0.5,>=2.0.2 in /usr/local/lib/python3.7/dist-packages (from packaging->jupyter-server<2.0.0,>=0.3.0->voila) (3.0.7)\n",
            "Enabling: voila\n",
            "- Writing config: /usr/etc/jupyter\n",
            "    - Validating...\n",
            "Error loading server extension voila\n",
            "     \u001b[31m X\u001b[0m is voila importable?\n"
          ]
        }
      ]
    },
    {
      "cell_type": "code",
      "source": [
        "learn_inf = load_learner('gdrive/MyDrive/Colab Notebooks/export.pkl')"
      ],
      "metadata": {
        "id": "XPAUwR6_mC0E"
      },
      "execution_count": 3,
      "outputs": []
    },
    {
      "cell_type": "code",
      "source": [
        "btn_upload  = widgets.FileUpload()\n",
        "btn_upload"
      ],
      "metadata": {
        "colab": {
          "base_uri": "https://localhost:8080/",
          "height": 49,
          "referenced_widgets": [
            "def0eb48d9fc48d293d66f6bcc653060",
            "f1495ccf57b64c4a953de217034be43a",
            "1f5d45fd5218499e9a8fcaef522075d7"
          ]
        },
        "id": "1R4Kd1MYmdpH",
        "outputId": "2d8f1053-22f8-4db0-fa01-9dfb5a2abe3f"
      },
      "execution_count": 6,
      "outputs": [
        {
          "output_type": "display_data",
          "data": {
            "application/vnd.jupyter.widget-view+json": {
              "model_id": "def0eb48d9fc48d293d66f6bcc653060",
              "version_minor": 0,
              "version_major": 2
            },
            "text/plain": [
              "FileUpload(value={}, description='Upload')"
            ]
          },
          "metadata": {}
        }
      ]
    },
    {
      "cell_type": "code",
      "source": [
        "img = PILImage.create(btn_upload.data[-1])"
      ],
      "metadata": {
        "id": "7E7otW9DmlbP"
      },
      "execution_count": 8,
      "outputs": []
    },
    {
      "cell_type": "code",
      "source": [
        "out_pl = widgets.Output()\n",
        "out_pl.clear_output()\n",
        "with out_pl: display(img.to_thumb(128,128)) \n",
        "out_pl"
      ],
      "metadata": {
        "colab": {
          "base_uri": "https://localhost:8080/",
          "height": 137,
          "referenced_widgets": [
            "533428ee6d894becb26585cbfcf779cc",
            "f6dec2f706164d71b80f47586c4413d6"
          ]
        },
        "id": "C0sWCJVbmuRk",
        "outputId": "3cce2e80-7974-43f8-afee-94c6af638768"
      },
      "execution_count": 9,
      "outputs": [
        {
          "output_type": "display_data",
          "data": {
            "application/vnd.jupyter.widget-view+json": {
              "model_id": "533428ee6d894becb26585cbfcf779cc",
              "version_minor": 0,
              "version_major": 2
            },
            "text/plain": [
              "Output()"
            ]
          },
          "metadata": {}
        }
      ]
    },
    {
      "cell_type": "code",
      "source": [
        "pred,pred_idx,probs = learn_inf.predict(img)"
      ],
      "metadata": {
        "colab": {
          "base_uri": "https://localhost:8080/",
          "height": 17
        },
        "id": "-60BW8uIm1F-",
        "outputId": "d1df7ae1-f879-4cde-9041-a3d02f42a07a"
      },
      "execution_count": 10,
      "outputs": [
        {
          "output_type": "display_data",
          "data": {
            "text/html": [
              ""
            ],
            "text/plain": [
              "<IPython.core.display.HTML object>"
            ]
          },
          "metadata": {}
        }
      ]
    },
    {
      "cell_type": "code",
      "source": [
        "lbl_pred = widgets.Label()\n",
        "lbl_pred.value = f'Prediction: {pred}; Probability: {probs[pred_idx]:.04f}'\n",
        "lbl_pred"
      ],
      "metadata": {
        "colab": {
          "base_uri": "https://localhost:8080/",
          "height": 49,
          "referenced_widgets": [
            "8f0371687d914015b0183eb8372bb3ed",
            "b225aa6a400b4a2d9270d1f37695eeec",
            "f9bf9e44f17b4af2b404b7a4522869b6"
          ]
        },
        "id": "Uyy0u6zim4Ak",
        "outputId": "b6f1ebfe-5182-4b12-e719-d0700383f950"
      },
      "execution_count": 11,
      "outputs": [
        {
          "output_type": "display_data",
          "data": {
            "application/vnd.jupyter.widget-view+json": {
              "model_id": "8f0371687d914015b0183eb8372bb3ed",
              "version_minor": 0,
              "version_major": 2
            },
            "text/plain": [
              "Label(value='Prediction: test_cricket; Probability: 0.9989')"
            ]
          },
          "metadata": {}
        }
      ]
    },
    {
      "cell_type": "code",
      "source": [
        "btn_run = widgets.Button(description='Classify')\n",
        "btn_run"
      ],
      "metadata": {
        "colab": {
          "base_uri": "https://localhost:8080/",
          "height": 49,
          "referenced_widgets": [
            "efdeff823de543c5ad2367bd38b33f1c",
            "6b7672f0f6284ce8bd86db56ccaf5d1e",
            "2a5098d1e8714a33b3927925ed7cdd02"
          ]
        },
        "id": "jh3xzRDLm6jn",
        "outputId": "f41639e4-f49e-45fd-be19-c29602a1c97c"
      },
      "execution_count": 12,
      "outputs": [
        {
          "output_type": "display_data",
          "data": {
            "application/vnd.jupyter.widget-view+json": {
              "model_id": "efdeff823de543c5ad2367bd38b33f1c",
              "version_minor": 0,
              "version_major": 2
            },
            "text/plain": [
              "Button(description='Classify', style=ButtonStyle())"
            ]
          },
          "metadata": {}
        }
      ]
    },
    {
      "cell_type": "code",
      "source": [
        "def on_click_classify(change):\n",
        "  img = PILImage.create(btn_upload.data[-1])\n",
        "  out_pl.clear_output()\n",
        "  with out_pl: display(img.to_thumb(128,128))\n",
        "  pred,pred_idx,probs = learn_inf.predict(img)\n",
        "  lbl_pred.value = f'Prediction: {pred}; Probability: {probs[pred_idx]:.04f}'\n",
        "btn_run.on_click(on_click_classify)"
      ],
      "metadata": {
        "id": "UahLElDdm9Vy"
      },
      "execution_count": 13,
      "outputs": []
    },
    {
      "cell_type": "code",
      "source": [
        "VBox([widgets.Label('Select your ball!'),btn_upload, btn_run, out_pl, lbl_pred])"
      ],
      "metadata": {
        "colab": {
          "base_uri": "https://localhost:8080/",
          "height": 265,
          "referenced_widgets": [
            "765d17487ce64749a9b61e2b87cc2dbf",
            "fa097729946c40328db64df60a0c4621",
            "cf35086b379b47b48dc9d0151fadd31f",
            "def0eb48d9fc48d293d66f6bcc653060",
            "efdeff823de543c5ad2367bd38b33f1c",
            "533428ee6d894becb26585cbfcf779cc",
            "8f0371687d914015b0183eb8372bb3ed",
            "9e2aba69b9534207b8fd4602f1b0c72b",
            "eb3376ae5c9c48d0bbddf1556b6752f9",
            "f1495ccf57b64c4a953de217034be43a",
            "1f5d45fd5218499e9a8fcaef522075d7",
            "6b7672f0f6284ce8bd86db56ccaf5d1e",
            "2a5098d1e8714a33b3927925ed7cdd02",
            "b225aa6a400b4a2d9270d1f37695eeec",
            "f9bf9e44f17b4af2b404b7a4522869b6",
            "f6dec2f706164d71b80f47586c4413d6"
          ]
        },
        "id": "M3uykdgKnBY3",
        "outputId": "d149a566-8efe-40a6-86fb-f64fb2650ea4"
      },
      "execution_count": 14,
      "outputs": [
        {
          "output_type": "display_data",
          "data": {
            "application/vnd.jupyter.widget-view+json": {
              "model_id": "765d17487ce64749a9b61e2b87cc2dbf",
              "version_minor": 0,
              "version_major": 2
            },
            "text/plain": [
              "VBox(children=(Label(value='Select your ball!'), FileUpload(value={'00000263.jpg': {'metadata': {'lastModified…"
            ]
          },
          "metadata": {}
        },
        {
          "output_type": "display_data",
          "data": {
            "text/html": [
              ""
            ],
            "text/plain": [
              "<IPython.core.display.HTML object>"
            ]
          },
          "metadata": {}
        }
      ]
    },
    {
      "cell_type": "code",
      "source": [
        ""
      ],
      "metadata": {
        "id": "ctUaWefznD7U"
      },
      "execution_count": null,
      "outputs": []
    }
  ],
  "metadata": {
    "jupytext": {
      "split_at_heading": true
    },
    "kernelspec": {
      "display_name": "Python 3",
      "language": "python",
      "name": "python3"
    },
    "colab": {
      "name": "Copy of 01_intro.ipynb",
      "provenance": [],
      "include_colab_link": true
    },
    "accelerator": "GPU",
    "widgets": {
      "application/vnd.jupyter.widget-state+json": {
        "def0eb48d9fc48d293d66f6bcc653060": {
          "model_module": "@jupyter-widgets/controls",
          "model_name": "FileUploadModel",
          "model_module_version": "1.5.0",
          "state": {
            "_view_name": "FileUploadView",
            "_counter": 2,
            "style": "IPY_MODEL_f1495ccf57b64c4a953de217034be43a",
            "_dom_classes": [],
            "description": "Upload",
            "multiple": false,
            "_model_name": "FileUploadModel",
            "data": [
              null
            ],
            "button_style": "",
            "_view_module": "@jupyter-widgets/controls",
            "_model_module_version": "1.5.0",
            "accept": "",
            "_view_count": null,
            "disabled": false,
            "_view_module_version": "1.5.0",
            "error": "",
            "description_tooltip": null,
            "metadata": [
              {
                "name": "images.jpg",
                "type": "image/jpeg",
                "size": 4756,
                "lastModified": 1645168956528
              }
            ],
            "_model_module": "@jupyter-widgets/controls",
            "layout": "IPY_MODEL_1f5d45fd5218499e9a8fcaef522075d7",
            "icon": "upload"
          }
        },
        "f1495ccf57b64c4a953de217034be43a": {
          "model_module": "@jupyter-widgets/controls",
          "model_name": "ButtonStyleModel",
          "model_module_version": "1.5.0",
          "state": {
            "_view_name": "StyleView",
            "_model_name": "ButtonStyleModel",
            "_view_module": "@jupyter-widgets/base",
            "_model_module_version": "1.5.0",
            "_view_count": null,
            "button_color": null,
            "font_weight": "",
            "_view_module_version": "1.2.0",
            "_model_module": "@jupyter-widgets/controls"
          }
        },
        "1f5d45fd5218499e9a8fcaef522075d7": {
          "model_module": "@jupyter-widgets/base",
          "model_name": "LayoutModel",
          "model_module_version": "1.2.0",
          "state": {
            "_view_name": "LayoutView",
            "grid_template_rows": null,
            "right": null,
            "justify_content": null,
            "_view_module": "@jupyter-widgets/base",
            "overflow": null,
            "_model_module_version": "1.2.0",
            "_view_count": null,
            "flex_flow": null,
            "width": null,
            "min_width": null,
            "border": null,
            "align_items": null,
            "bottom": null,
            "_model_module": "@jupyter-widgets/base",
            "top": null,
            "grid_column": null,
            "overflow_y": null,
            "overflow_x": null,
            "grid_auto_flow": null,
            "grid_area": null,
            "grid_template_columns": null,
            "flex": null,
            "_model_name": "LayoutModel",
            "justify_items": null,
            "grid_row": null,
            "max_height": null,
            "align_content": null,
            "visibility": null,
            "align_self": null,
            "height": null,
            "min_height": null,
            "padding": null,
            "grid_auto_rows": null,
            "grid_gap": null,
            "max_width": null,
            "order": null,
            "_view_module_version": "1.2.0",
            "grid_template_areas": null,
            "object_position": null,
            "object_fit": null,
            "grid_auto_columns": null,
            "margin": null,
            "display": null,
            "left": null
          }
        },
        "533428ee6d894becb26585cbfcf779cc": {
          "model_module": "@jupyter-widgets/output",
          "model_name": "OutputModel",
          "model_module_version": "1.0.0",
          "state": {
            "_view_name": "OutputView",
            "msg_id": "",
            "_dom_classes": [],
            "_model_name": "OutputModel",
            "outputs": [
              {
                "output_type": "display_data",
                "data": {
                  "image/png": "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\n",
                  "text/plain": "<PIL.Image.Image image mode=RGB size=128x120 at 0x7F8E9FFE5C10>"
                },
                "metadata": {}
              }
            ],
            "_view_module": "@jupyter-widgets/output",
            "_model_module_version": "1.0.0",
            "_view_count": null,
            "_view_module_version": "1.0.0",
            "layout": "IPY_MODEL_f6dec2f706164d71b80f47586c4413d6",
            "_model_module": "@jupyter-widgets/output"
          }
        },
        "f6dec2f706164d71b80f47586c4413d6": {
          "model_module": "@jupyter-widgets/base",
          "model_name": "LayoutModel",
          "model_module_version": "1.2.0",
          "state": {
            "_view_name": "LayoutView",
            "grid_template_rows": null,
            "right": null,
            "justify_content": null,
            "_view_module": "@jupyter-widgets/base",
            "overflow": null,
            "_model_module_version": "1.2.0",
            "_view_count": null,
            "flex_flow": null,
            "width": null,
            "min_width": null,
            "border": null,
            "align_items": null,
            "bottom": null,
            "_model_module": "@jupyter-widgets/base",
            "top": null,
            "grid_column": null,
            "overflow_y": null,
            "overflow_x": null,
            "grid_auto_flow": null,
            "grid_area": null,
            "grid_template_columns": null,
            "flex": null,
            "_model_name": "LayoutModel",
            "justify_items": null,
            "grid_row": null,
            "max_height": null,
            "align_content": null,
            "visibility": null,
            "align_self": null,
            "height": null,
            "min_height": null,
            "padding": null,
            "grid_auto_rows": null,
            "grid_gap": null,
            "max_width": null,
            "order": null,
            "_view_module_version": "1.2.0",
            "grid_template_areas": null,
            "object_position": null,
            "object_fit": null,
            "grid_auto_columns": null,
            "margin": null,
            "display": null,
            "left": null
          }
        },
        "8f0371687d914015b0183eb8372bb3ed": {
          "model_module": "@jupyter-widgets/controls",
          "model_name": "LabelModel",
          "model_module_version": "1.5.0",
          "state": {
            "_view_name": "LabelView",
            "style": "IPY_MODEL_b225aa6a400b4a2d9270d1f37695eeec",
            "_dom_classes": [],
            "description": "",
            "_model_name": "LabelModel",
            "placeholder": "​",
            "_view_module": "@jupyter-widgets/controls",
            "_model_module_version": "1.5.0",
            "value": "Prediction: tennis; Probability: 1.0000",
            "_view_count": null,
            "_view_module_version": "1.5.0",
            "description_tooltip": null,
            "_model_module": "@jupyter-widgets/controls",
            "layout": "IPY_MODEL_f9bf9e44f17b4af2b404b7a4522869b6"
          }
        },
        "b225aa6a400b4a2d9270d1f37695eeec": {
          "model_module": "@jupyter-widgets/controls",
          "model_name": "DescriptionStyleModel",
          "model_module_version": "1.5.0",
          "state": {
            "_view_name": "StyleView",
            "_model_name": "DescriptionStyleModel",
            "description_width": "",
            "_view_module": "@jupyter-widgets/base",
            "_model_module_version": "1.5.0",
            "_view_count": null,
            "_view_module_version": "1.2.0",
            "_model_module": "@jupyter-widgets/controls"
          }
        },
        "f9bf9e44f17b4af2b404b7a4522869b6": {
          "model_module": "@jupyter-widgets/base",
          "model_name": "LayoutModel",
          "model_module_version": "1.2.0",
          "state": {
            "_view_name": "LayoutView",
            "grid_template_rows": null,
            "right": null,
            "justify_content": null,
            "_view_module": "@jupyter-widgets/base",
            "overflow": null,
            "_model_module_version": "1.2.0",
            "_view_count": null,
            "flex_flow": null,
            "width": null,
            "min_width": null,
            "border": null,
            "align_items": null,
            "bottom": null,
            "_model_module": "@jupyter-widgets/base",
            "top": null,
            "grid_column": null,
            "overflow_y": null,
            "overflow_x": null,
            "grid_auto_flow": null,
            "grid_area": null,
            "grid_template_columns": null,
            "flex": null,
            "_model_name": "LayoutModel",
            "justify_items": null,
            "grid_row": null,
            "max_height": null,
            "align_content": null,
            "visibility": null,
            "align_self": null,
            "height": null,
            "min_height": null,
            "padding": null,
            "grid_auto_rows": null,
            "grid_gap": null,
            "max_width": null,
            "order": null,
            "_view_module_version": "1.2.0",
            "grid_template_areas": null,
            "object_position": null,
            "object_fit": null,
            "grid_auto_columns": null,
            "margin": null,
            "display": null,
            "left": null
          }
        },
        "efdeff823de543c5ad2367bd38b33f1c": {
          "model_module": "@jupyter-widgets/controls",
          "model_name": "ButtonModel",
          "model_module_version": "1.5.0",
          "state": {
            "_view_name": "ButtonView",
            "style": "IPY_MODEL_6b7672f0f6284ce8bd86db56ccaf5d1e",
            "_dom_classes": [],
            "description": "Classify",
            "_model_name": "ButtonModel",
            "button_style": "",
            "_view_module": "@jupyter-widgets/controls",
            "_model_module_version": "1.5.0",
            "tooltip": "",
            "_view_count": null,
            "disabled": false,
            "_view_module_version": "1.5.0",
            "layout": "IPY_MODEL_2a5098d1e8714a33b3927925ed7cdd02",
            "_model_module": "@jupyter-widgets/controls",
            "icon": ""
          }
        },
        "6b7672f0f6284ce8bd86db56ccaf5d1e": {
          "model_module": "@jupyter-widgets/controls",
          "model_name": "ButtonStyleModel",
          "model_module_version": "1.5.0",
          "state": {
            "_view_name": "StyleView",
            "_model_name": "ButtonStyleModel",
            "_view_module": "@jupyter-widgets/base",
            "_model_module_version": "1.5.0",
            "_view_count": null,
            "button_color": null,
            "font_weight": "",
            "_view_module_version": "1.2.0",
            "_model_module": "@jupyter-widgets/controls"
          }
        },
        "2a5098d1e8714a33b3927925ed7cdd02": {
          "model_module": "@jupyter-widgets/base",
          "model_name": "LayoutModel",
          "model_module_version": "1.2.0",
          "state": {
            "_view_name": "LayoutView",
            "grid_template_rows": null,
            "right": null,
            "justify_content": null,
            "_view_module": "@jupyter-widgets/base",
            "overflow": null,
            "_model_module_version": "1.2.0",
            "_view_count": null,
            "flex_flow": null,
            "width": null,
            "min_width": null,
            "border": null,
            "align_items": null,
            "bottom": null,
            "_model_module": "@jupyter-widgets/base",
            "top": null,
            "grid_column": null,
            "overflow_y": null,
            "overflow_x": null,
            "grid_auto_flow": null,
            "grid_area": null,
            "grid_template_columns": null,
            "flex": null,
            "_model_name": "LayoutModel",
            "justify_items": null,
            "grid_row": null,
            "max_height": null,
            "align_content": null,
            "visibility": null,
            "align_self": null,
            "height": null,
            "min_height": null,
            "padding": null,
            "grid_auto_rows": null,
            "grid_gap": null,
            "max_width": null,
            "order": null,
            "_view_module_version": "1.2.0",
            "grid_template_areas": null,
            "object_position": null,
            "object_fit": null,
            "grid_auto_columns": null,
            "margin": null,
            "display": null,
            "left": null
          }
        },
        "765d17487ce64749a9b61e2b87cc2dbf": {
          "model_module": "@jupyter-widgets/controls",
          "model_name": "VBoxModel",
          "model_module_version": "1.5.0",
          "state": {
            "_view_name": "VBoxView",
            "_dom_classes": [],
            "_model_name": "VBoxModel",
            "_view_module": "@jupyter-widgets/controls",
            "_model_module_version": "1.5.0",
            "_view_count": null,
            "_view_module_version": "1.5.0",
            "box_style": "",
            "layout": "IPY_MODEL_fa097729946c40328db64df60a0c4621",
            "_model_module": "@jupyter-widgets/controls",
            "children": [
              "IPY_MODEL_cf35086b379b47b48dc9d0151fadd31f",
              "IPY_MODEL_def0eb48d9fc48d293d66f6bcc653060",
              "IPY_MODEL_efdeff823de543c5ad2367bd38b33f1c",
              "IPY_MODEL_533428ee6d894becb26585cbfcf779cc",
              "IPY_MODEL_8f0371687d914015b0183eb8372bb3ed"
            ]
          }
        },
        "fa097729946c40328db64df60a0c4621": {
          "model_module": "@jupyter-widgets/base",
          "model_name": "LayoutModel",
          "model_module_version": "1.2.0",
          "state": {
            "_view_name": "LayoutView",
            "grid_template_rows": null,
            "right": null,
            "justify_content": null,
            "_view_module": "@jupyter-widgets/base",
            "overflow": null,
            "_model_module_version": "1.2.0",
            "_view_count": null,
            "flex_flow": null,
            "width": null,
            "min_width": null,
            "border": null,
            "align_items": null,
            "bottom": null,
            "_model_module": "@jupyter-widgets/base",
            "top": null,
            "grid_column": null,
            "overflow_y": null,
            "overflow_x": null,
            "grid_auto_flow": null,
            "grid_area": null,
            "grid_template_columns": null,
            "flex": null,
            "_model_name": "LayoutModel",
            "justify_items": null,
            "grid_row": null,
            "max_height": null,
            "align_content": null,
            "visibility": null,
            "align_self": null,
            "height": null,
            "min_height": null,
            "padding": null,
            "grid_auto_rows": null,
            "grid_gap": null,
            "max_width": null,
            "order": null,
            "_view_module_version": "1.2.0",
            "grid_template_areas": null,
            "object_position": null,
            "object_fit": null,
            "grid_auto_columns": null,
            "margin": null,
            "display": null,
            "left": null
          }
        },
        "cf35086b379b47b48dc9d0151fadd31f": {
          "model_module": "@jupyter-widgets/controls",
          "model_name": "LabelModel",
          "model_module_version": "1.5.0",
          "state": {
            "_view_name": "LabelView",
            "style": "IPY_MODEL_9e2aba69b9534207b8fd4602f1b0c72b",
            "_dom_classes": [],
            "description": "",
            "_model_name": "LabelModel",
            "placeholder": "​",
            "_view_module": "@jupyter-widgets/controls",
            "_model_module_version": "1.5.0",
            "value": "Select your ball!",
            "_view_count": null,
            "_view_module_version": "1.5.0",
            "description_tooltip": null,
            "_model_module": "@jupyter-widgets/controls",
            "layout": "IPY_MODEL_eb3376ae5c9c48d0bbddf1556b6752f9"
          }
        },
        "9e2aba69b9534207b8fd4602f1b0c72b": {
          "model_module": "@jupyter-widgets/controls",
          "model_name": "DescriptionStyleModel",
          "model_module_version": "1.5.0",
          "state": {
            "_view_name": "StyleView",
            "_model_name": "DescriptionStyleModel",
            "description_width": "",
            "_view_module": "@jupyter-widgets/base",
            "_model_module_version": "1.5.0",
            "_view_count": null,
            "_view_module_version": "1.2.0",
            "_model_module": "@jupyter-widgets/controls"
          }
        },
        "eb3376ae5c9c48d0bbddf1556b6752f9": {
          "model_module": "@jupyter-widgets/base",
          "model_name": "LayoutModel",
          "model_module_version": "1.2.0",
          "state": {
            "_view_name": "LayoutView",
            "grid_template_rows": null,
            "right": null,
            "justify_content": null,
            "_view_module": "@jupyter-widgets/base",
            "overflow": null,
            "_model_module_version": "1.2.0",
            "_view_count": null,
            "flex_flow": null,
            "width": null,
            "min_width": null,
            "border": null,
            "align_items": null,
            "bottom": null,
            "_model_module": "@jupyter-widgets/base",
            "top": null,
            "grid_column": null,
            "overflow_y": null,
            "overflow_x": null,
            "grid_auto_flow": null,
            "grid_area": null,
            "grid_template_columns": null,
            "flex": null,
            "_model_name": "LayoutModel",
            "justify_items": null,
            "grid_row": null,
            "max_height": null,
            "align_content": null,
            "visibility": null,
            "align_self": null,
            "height": null,
            "min_height": null,
            "padding": null,
            "grid_auto_rows": null,
            "grid_gap": null,
            "max_width": null,
            "order": null,
            "_view_module_version": "1.2.0",
            "grid_template_areas": null,
            "object_position": null,
            "object_fit": null,
            "grid_auto_columns": null,
            "margin": null,
            "display": null,
            "left": null
          }
        }
      }
    }
  },
  "nbformat": 4,
  "nbformat_minor": 0
}